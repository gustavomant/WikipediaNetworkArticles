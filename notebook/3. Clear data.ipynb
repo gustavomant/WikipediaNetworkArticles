{
 "cells": [
  {
   "cell_type": "code",
   "execution_count": 1,
   "id": "6f874960-c543-4419-9bf6-e44b8dc113cb",
   "metadata": {},
   "outputs": [
    {
     "name": "stdout",
     "output_type": "stream",
     "text": [
      "Note: you may need to restart the kernel to use updated packages.\n"
     ]
    }
   ],
   "source": [
    "%pip install -q pandas pyarrow tqdm"
   ]
  },
  {
   "cell_type": "code",
   "execution_count": 1,
   "id": "b929b8ec-2f46-4720-850c-1cbd7d4a5a1f",
   "metadata": {},
   "outputs": [],
   "source": [
    "\n",
    "\n"
   ]
  },
  {
   "cell_type": "code",
   "execution_count": 5,
   "id": "969d34d4-9d21-4d51-b205-ada6568ef70c",
   "metadata": {},
   "outputs": [],
   "source": [
    "import pandas as pd\n",
    "from os.path import join\n",
    "\n",
    "\n",
    "# Define the namespaces to be excluded\n",
    "EXCLUDED_PREFIXES = [\n",
    "    'Wikipédia:', 'Categoria:', 'Predefinição:', 'Ficheiro:', 'Portal:',\n",
    "    'Módulo:', 'Tópico:', 'Ajuda:', 'MediaWiki:', 'Livro:', 'TimedText:'\n",
    "]\n",
    "\n",
    "\n",
    "def filter_redirects(redirect_array: [str], page_title_lower: set):\n",
    "    for redirect in redirect_array:\n",
    "        redirect_ref = redirect.split('|')[0].split('#')[0].strip()\n",
    "        \n",
    "        # Check if the redirect does not start with any excluded prefix\n",
    "        if not any(redirect_ref.startswith(prefix) for prefix in EXCLUDED_PREFIXES):\n",
    "            if redirect_ref.lower() in page_title_lower:\n",
    "                return [redirect_ref]\n",
    "\n",
    "\n",
    "def process_page(wikinamedate: str) -> None:\n",
    "    print(f'[INFO] Reading {wikinamedate.replace(\"/\", \"-\")}/raw.parquet')\n",
    "    df = pd.read_parquet(join('./output/', wikinamedate.replace('/', '-'), 'raw.parquet'))\n",
    "    \n",
    "    print(f'[INFO] Filtering {wikinamedate.replace(\"/\", \"-\")}/raw.parquet')\n",
    "    df = df[df['Page Namespace'] == '0']\n",
    "\n",
    "    page_title_lower = set(df['Page Title'].str.lower().values)\n",
    "    df['Page References'] = df['Page References'].apply(lambda redirect_array: filter_redirects(redirect_array, page_title_lower))\n",
    "\n",
    "    df.to_parquet(join('./output/', wikinamedate.replace('/', '-'), 'processed.parquet'))\n",
    "\n",
    "    print(f\"[INFO] {df['Page References'].count()} out of {df['Page Title'].count()} ({round(100 * (df['Page References'].count()/df['Page Title'].count()), 2)}%) pages have at least one Page Reference\")\n",
    "    \n",
    "    del page_title_lower, df"
   ]
  },
  {
   "cell_type": "code",
   "execution_count": 6,
   "id": "cca756e9-7e6f-4575-b42c-773b5ca35412",
   "metadata": {},
   "outputs": [
    {
     "name": "stdout",
     "output_type": "stream",
     "text": [
      "[INFO] Reading ptwiki-20240720/raw.parquet\n",
      "[INFO] Filtering ptwiki-20240720/raw.parquet\n",
      "[INFO] 1135416 out of 1909778 (59.45%) pages have a Target Page Name\n",
      "CPU times: user 1min 5s, sys: 7.74 s, total: 1min 13s\n",
      "Wall time: 1min 7s\n"
     ]
    }
   ],
   "source": [
    "%%time\n",
    "# Restore variable from different Jupyter notebook\n",
    "%store -r wikinamedate\n",
    "\n",
    "process_page(wikinamedate)"
   ]
  }
 ],
 "metadata": {
  "kernelspec": {
   "display_name": "Python 3 (ipykernel)",
   "language": "python",
   "name": "python3"
  },
  "language_info": {
   "codemirror_mode": {
    "name": "ipython",
    "version": 3
   },
   "file_extension": ".py",
   "mimetype": "text/x-python",
   "name": "python",
   "nbconvert_exporter": "python",
   "pygments_lexer": "ipython3",
   "version": "3.11.6"
  },
  "widgets": {
   "application/vnd.jupyter.widget-state+json": {
    "state": {},
    "version_major": 2,
    "version_minor": 0
   }
  }
 },
 "nbformat": 4,
 "nbformat_minor": 5
}
