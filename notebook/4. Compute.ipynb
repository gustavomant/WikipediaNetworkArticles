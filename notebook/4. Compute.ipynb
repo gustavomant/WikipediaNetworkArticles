{
 "cells": [
  {
   "cell_type": "code",
   "execution_count": null,
   "id": "5df33085-6f56-4398-87ff-dc264252354e",
   "metadata": {},
   "outputs": [],
   "source": [
    "%pip install -q pandas pyarrow tqdm igraph"
   ]
  },
  {
   "cell_type": "code",
   "execution_count": 25,
   "id": "f579ebee-eda4-45b5-ae05-e7c4fc4c22c1",
   "metadata": {},
   "outputs": [],
   "source": [
    "import pandas as pd\n",
    "from os.path import join\n",
    "\n",
    "\n",
    "def count(df: pd.DataFrame, page_title: str, degree: int = -1) -> None:\n",
    "    counter = []\n",
    "\n",
    "    df_template = pd.DataFrame({\n",
    "        'Page Title': [page_title]\n",
    "    })\n",
    "\n",
    "    while not df.empty:\n",
    "        df1 = df[df['Page References'].apply(lambda x: x.lower()).isin(df_template['Page Title'].str.lower())]\n",
    "        counter.append(df1.count())\n",
    "        print(len(counter))\n",
    "\n",
    "\n",
    "def compute_pages(wikinamedate: str) -> None:\n",
    "    print(f'[INFO] Reading {wikinamedate.replace(\"/\", \"-\")}/processed.parquet')\n",
    "    df = pd.read_parquet(join('./output/', wikinamedate.replace('/', '-'), 'processed.parquet'))\n",
    "\n",
    "    return df # del df"
   ]
  },
  {
   "cell_type": "code",
   "execution_count": 65,
   "id": "f180bc0d-677d-4dcf-93c6-30adaaf7e92c",
   "metadata": {},
   "outputs": [
    {
     "name": "stdout",
     "output_type": "stream",
     "text": [
      "[INFO] Reading ptwiki-20240720/processed.parquet\n",
      "CPU times: user 4.2 s, sys: 669 ms, total: 4.86 s\n",
      "Wall time: 3.42 s\n"
     ]
    }
   ],
   "source": [
    "%%time\n",
    "# Restore variable from different Jupyter notebook\n",
    "%store -r wikinamedate\n",
    "\n",
    "df = compute_pages(wikinamedate)"
   ]
  },
  {
   "cell_type": "code",
   "execution_count": 68,
   "id": "2a18c0e6-0da4-47c6-a1e3-d16026611224",
   "metadata": {},
   "outputs": [
    {
     "name": "stdin",
     "output_type": "stream",
     "text": [
      " Rigor científico\n"
     ]
    },
    {
     "name": "stdout",
     "output_type": "stream",
     "text": [
      "         Page Title\n",
      "0  Rigor científico\n",
      "1\n",
      "2\n",
      "3\n",
      "4\n",
      "5\n",
      "6\n",
      "7\n",
      "8\n",
      "9\n",
      "10\n",
      "11\n",
      "12\n",
      "13\n",
      "14\n",
      "15\n",
      "16\n",
      "17\n",
      "[1, 184, 2772, 4918, 5165, 4847, 7670, 6305, 9363, 3936, 1365, 1049, 455, 171, 52, 7, 0]\n",
      "48260\n"
     ]
    }
   ],
   "source": [
    "def count(df: pd.DataFrame, page_title: str, degree: int = -1) -> None:\n",
    "    df_filtered = df[df['Page References'].notna()]\n",
    "    counter = []\n",
    "    \n",
    "    df_template = pd.DataFrame({\n",
    "        'Page Title': [page_title]\n",
    "    })\n",
    "\n",
    "    print(df_template)\n",
    "    \n",
    "    while not df_template.empty:\n",
    "        df_filtered = df_filtered[~df_filtered['Page Title'].apply(lambda x: x.lower()).isin(df_template['Page Title'].str.lower())]\n",
    "        df_template = df_filtered[df_filtered['Page References'].apply(lambda x: x[0].lower()).isin(df_template['Page Title'].str.lower())]\n",
    "\n",
    "\n",
    "        counter.append(df_template['Page Title'].count())\n",
    "        print(len(counter))\n",
    "\n",
    "    print(counter)\n",
    "    print(sum(counter))\n",
    "\n",
    "\n",
    "page_title = input()\n",
    "count(df, page_title)"
   ]
  },
  {
   "cell_type": "code",
   "execution_count": null,
   "id": "504f8ee0-964f-4db5-a0bb-e75402db7b62",
   "metadata": {},
   "outputs": [],
   "source": [
    "df[df['Page Title'] == 'Rigor científico']"
   ]
  }
 ],
 "metadata": {
  "kernelspec": {
   "display_name": "Python 3 (ipykernel)",
   "language": "python",
   "name": "python3"
  },
  "language_info": {
   "codemirror_mode": {
    "name": "ipython",
    "version": 3
   },
   "file_extension": ".py",
   "mimetype": "text/x-python",
   "name": "python",
   "nbconvert_exporter": "python",
   "pygments_lexer": "ipython3",
   "version": "3.11.6"
  }
 },
 "nbformat": 4,
 "nbformat_minor": 5
}
